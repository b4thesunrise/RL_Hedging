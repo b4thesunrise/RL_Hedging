{
 "cells": [
  {
   "cell_type": "code",
   "execution_count": 15,
   "metadata": {},
   "outputs": [],
   "source": [
    "import gym"
   ]
  },
  {
   "cell_type": "code",
   "execution_count": 16,
   "metadata": {},
   "outputs": [],
   "source": [
    "from spinup import sac_pytorch as sac"
   ]
  },
  {
   "cell_type": "code",
   "execution_count": 17,
   "metadata": {},
   "outputs": [],
   "source": [
    "import torch\n",
    "import torch.nn as nn\n",
    "class HEDGING_Actor(nn.Module):\n",
    "\n",
    "    def __init__(self, obs_dim, act_dim, act_limit):\n",
    "        super().__init__()\n",
    "        self.fc1 = nn.Linear(obs_dim, 3)\n",
    "        self.ac1 = nn.LeakyReLU(0.1)\n",
    "        self.fc2 = nn.Linear(3, 2)\n",
    "        self.ac2 = nn.LeakyReLU(0.1)\n",
    "        self.fc3 = nn.Linear(2, act_dim)\n",
    "\n",
    "    def forward(self, obs):\n",
    "        # Return output from network scaled to action space limits.\n",
    "        x = self.fc1(obs)\n",
    "        x = self.ac1(x)\n",
    "        x = self.fc2(x)\n",
    "        x = self.ac2(x)\n",
    "        x = self.fc3(x)\n",
    "        x = torch.clamp(x, -2, 2)\n",
    "        return x\n",
    "\n",
    "class HEDGING_QFunction(nn.Module):\n",
    "\n",
    "    def __init__(self, obs_dim, act_dim):\n",
    "        super().__init__()\n",
    "        self.fc1 = nn.Linear(obs_dim + act_dim, 3)\n",
    "        self.ac1 = nn.LeakyReLU(0.1)\n",
    "        self.fc2 = nn.Linear(3, 2)\n",
    "        self.ac2 = nn.LeakyReLU(0.1)\n",
    "        self.fc3 = nn.Linear(2, act_dim)\n",
    "\n",
    "    def forward(self, obs, act):\n",
    "        x = self.fc1(torch.cat([obs, act], dim=-1))\n",
    "        x = self.ac1(x)\n",
    "        x = self.fc2(x)\n",
    "        x = self.ac2(x)\n",
    "        x = self.fc3(x)\n",
    "        return torch.squeeze(x, -1) # Critical to ensure q has right shape.\n",
    "\n",
    "class HEDGING(nn.Module):\n",
    "\n",
    "    def __init__(self, observation_space, action_space,activation=nn.ReLU):\n",
    "        super().__init__()\n",
    "\n",
    "        obs_dim = observation_space.shape[0]\n",
    "        act_dim = action_space.shape[0]\n",
    "        act_limit = action_space.high[0]\n",
    "\n",
    "        # build policy and value functions\n",
    "        self.pi = HEDGING_Actor(obs_dim, act_dim, act_limit)\n",
    "        self.q1 = HEDGING_QFunction(obs_dim, act_dim)\n",
    "\n",
    "    def act(self, obs):\n",
    "        with torch.no_grad():\n",
    "            return self.pi(obs).numpy()"
   ]
  },
  {
   "cell_type": "code",
   "execution_count": 18,
   "metadata": {
    "tags": []
   },
   "outputs": [
    {
     "output_type": "stream",
     "name": "stdout",
     "text": "\u001b[32;1mLogging data to /tmp/experiments/1596717351/progress.txt\u001b[0m\n\u001b[36;1mSaving config:\n\u001b[0m\n{\n    \"ac_kwargs\":\t{},\n    \"actor_critic\":\t\"HEDGING\",\n    \"alpha\":\t0.2,\n    \"batch_size\":\t100,\n    \"env_fn\":\t\"<function <lambda> at 0x157b7b3b0>\",\n    \"epochs\":\t100,\n    \"gamma\":\t0.99,\n    \"logger\":\t{\n        \"<spinup.utils.logx.EpochLogger object at 0x156dae7d0>\":\t{\n            \"epoch_dict\":\t{},\n            \"exp_name\":\tnull,\n            \"first_row\":\ttrue,\n            \"log_current_row\":\t{},\n            \"log_headers\":\t[],\n            \"output_dir\":\t\"/tmp/experiments/1596717351\",\n            \"output_file\":\t{\n                \"<_io.TextIOWrapper name='/tmp/experiments/1596717351/progress.txt' mode='w' encoding='UTF-8'>\":\t{\n                    \"mode\":\t\"w\"\n                }\n            }\n        }\n    },\n    \"logger_kwargs\":\t{},\n    \"lr\":\t0.0001,\n    \"max_ep_len\":\t1000,\n    \"num_test_episodes\":\t10,\n    \"polyak\":\t0.995,\n    \"replay_size\":\t1000000,\n    \"save_freq\":\t1,\n    \"seed\":\t0,\n    \"start_steps\":\t10000,\n    \"steps_per_epoch\":\t4000,\n    \"update_after\":\t1000,\n    \"update_every\":\t50\n}\n"
    },
    {
     "output_type": "error",
     "ename": "AttributeError",
     "evalue": "'HEDGING' object has no attribute 'q1'",
     "traceback": [
      "\u001b[0;31m---------------------------------------------------------------------------\u001b[0m",
      "\u001b[0;31mAttributeError\u001b[0m                            Traceback (most recent call last)",
      "\u001b[0;32m<ipython-input-18-c1def7c6f53e>\u001b[0m in \u001b[0;36m<module>\u001b[0;34m\u001b[0m\n\u001b[0;32m----> 1\u001b[0;31m \u001b[0msac\u001b[0m\u001b[0;34m(\u001b[0m\u001b[0menv_fn\u001b[0m\u001b[0;34m=\u001b[0m\u001b[0;32mlambda\u001b[0m \u001b[0;34m:\u001b[0m \u001b[0mgym\u001b[0m\u001b[0;34m.\u001b[0m\u001b[0mmake\u001b[0m\u001b[0;34m(\u001b[0m\u001b[0;34m'DHENV:DHENV-v1'\u001b[0m\u001b[0;34m)\u001b[0m\u001b[0;34m,\u001b[0m\u001b[0mactor_critic\u001b[0m\u001b[0;34m=\u001b[0m\u001b[0mHEDGING\u001b[0m\u001b[0;34m,\u001b[0m \u001b[0mlr\u001b[0m \u001b[0;34m=\u001b[0m \u001b[0;36m1e-4\u001b[0m\u001b[0;34m)\u001b[0m\u001b[0;34m\u001b[0m\u001b[0;34m\u001b[0m\u001b[0m\n\u001b[0m",
      "\u001b[0;32m~/spinningup/spinup/algos/pytorch/sac/sac.py\u001b[0m in \u001b[0;36msac\u001b[0;34m(env_fn, actor_critic, ac_kwargs, seed, steps_per_epoch, epochs, replay_size, gamma, polyak, lr, alpha, batch_size, start_steps, update_after, update_every, num_test_episodes, max_ep_len, logger_kwargs, save_freq)\u001b[0m\n\u001b[1;32m    167\u001b[0m \u001b[0;34m\u001b[0m\u001b[0m\n\u001b[1;32m    168\u001b[0m     \u001b[0;31m# List of parameters for both Q-networks (save this for convenience)\u001b[0m\u001b[0;34m\u001b[0m\u001b[0;34m\u001b[0m\u001b[0;34m\u001b[0m\u001b[0m\n\u001b[0;32m--> 169\u001b[0;31m     \u001b[0mq_params\u001b[0m \u001b[0;34m=\u001b[0m \u001b[0mitertools\u001b[0m\u001b[0;34m.\u001b[0m\u001b[0mchain\u001b[0m\u001b[0;34m(\u001b[0m\u001b[0mac\u001b[0m\u001b[0;34m.\u001b[0m\u001b[0mq1\u001b[0m\u001b[0;34m.\u001b[0m\u001b[0mparameters\u001b[0m\u001b[0;34m(\u001b[0m\u001b[0;34m)\u001b[0m\u001b[0;34m,\u001b[0m \u001b[0mac\u001b[0m\u001b[0;34m.\u001b[0m\u001b[0mq2\u001b[0m\u001b[0;34m.\u001b[0m\u001b[0mparameters\u001b[0m\u001b[0;34m(\u001b[0m\u001b[0;34m)\u001b[0m\u001b[0;34m)\u001b[0m\u001b[0;34m\u001b[0m\u001b[0;34m\u001b[0m\u001b[0m\n\u001b[0m\u001b[1;32m    170\u001b[0m \u001b[0;34m\u001b[0m\u001b[0m\n\u001b[1;32m    171\u001b[0m     \u001b[0;31m# Experience buffer\u001b[0m\u001b[0;34m\u001b[0m\u001b[0;34m\u001b[0m\u001b[0;34m\u001b[0m\u001b[0m\n",
      "\u001b[0;32m/opt/anaconda3/envs/python/lib/python3.7/site-packages/torch/nn/modules/module.py\u001b[0m in \u001b[0;36m__getattr__\u001b[0;34m(self, name)\u001b[0m\n\u001b[1;32m    583\u001b[0m                 \u001b[0;32mreturn\u001b[0m \u001b[0mmodules\u001b[0m\u001b[0;34m[\u001b[0m\u001b[0mname\u001b[0m\u001b[0;34m]\u001b[0m\u001b[0;34m\u001b[0m\u001b[0;34m\u001b[0m\u001b[0m\n\u001b[1;32m    584\u001b[0m         raise AttributeError(\"'{}' object has no attribute '{}'\".format(\n\u001b[0;32m--> 585\u001b[0;31m             type(self).__name__, name))\n\u001b[0m\u001b[1;32m    586\u001b[0m \u001b[0;34m\u001b[0m\u001b[0m\n\u001b[1;32m    587\u001b[0m     \u001b[0;32mdef\u001b[0m \u001b[0m__setattr__\u001b[0m\u001b[0;34m(\u001b[0m\u001b[0mself\u001b[0m\u001b[0;34m,\u001b[0m \u001b[0mname\u001b[0m\u001b[0;34m,\u001b[0m \u001b[0mvalue\u001b[0m\u001b[0;34m)\u001b[0m\u001b[0;34m:\u001b[0m\u001b[0;34m\u001b[0m\u001b[0;34m\u001b[0m\u001b[0m\n",
      "\u001b[0;31mAttributeError\u001b[0m: 'HEDGING' object has no attribute 'q1'"
     ]
    }
   ],
   "source": [
    "sac(env_fn=lambda : gym.make('DHENV:DHENV-v1'),lr = 1e-4)"
   ]
  },
  {
   "cell_type": "code",
   "execution_count": null,
   "metadata": {},
   "outputs": [],
   "source": []
  }
 ],
 "metadata": {
  "language_info": {
   "codemirror_mode": {
    "name": "ipython",
    "version": 3
   },
   "file_extension": ".py",
   "mimetype": "text/x-python",
   "name": "python",
   "nbconvert_exporter": "python",
   "pygments_lexer": "ipython3",
   "version": "3.7.7-final"
  },
  "orig_nbformat": 2,
  "kernelspec": {
   "name": "python37764bitpythonconda11ea8fec7a3f439b94ba0c1adc3469e1",
   "display_name": "Python 3.7.7 64-bit ('python': conda)"
  }
 },
 "nbformat": 4,
 "nbformat_minor": 2
}